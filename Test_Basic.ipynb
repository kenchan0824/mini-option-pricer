{
 "cells": [
  {
   "cell_type": "code",
   "execution_count": 1,
   "metadata": {
    "collapsed": true
   },
   "outputs": [],
   "source": [
    "import numpy as np\n",
    "from comp7405.basic import *"
   ]
  },
  {
   "cell_type": "markdown",
   "metadata": {},
   "source": [
    "# Test Cases"
   ]
  },
  {
   "cell_type": "code",
   "execution_count": 2,
   "metadata": {
    "collapsed": true
   },
   "outputs": [],
   "source": [
    "S = 100.0\n",
    "K = np.array([100.0, 120.0, 100.0, 100.0, 100.0, 100.0])\n",
    "T = np.array([0.5, 0.5, 1.0, 0.5, 0.5, 0.5])\n",
    "sigma = np.array([0.2, 0.2, 0.2, 0.3, 0.2, 0.2])\n",
    "r = np.array([0.01, 0.01, 0.01, 0.01, 0.02, 0.01])\n",
    "q = np.array([0.0, 0.0, 0.0, 0.0, 0.0, 0.03])"
   ]
  },
  {
   "cell_type": "markdown",
   "metadata": {},
   "source": [
    "# Test Black-Scholes Formula"
   ]
  },
  {
   "cell_type": "code",
   "execution_count": 3,
   "metadata": {},
   "outputs": [
    {
     "name": "stdout",
     "output_type": "stream",
     "text": [
      "[ 5.87602423  0.77413881  8.43331869  8.67764556  6.12065411  5.10007326]\n"
     ]
    }
   ],
   "source": [
    "C = black_scholes(S, K, T, sigma, r, q, option_type='C')\n",
    "print (C)"
   ]
  },
  {
   "cell_type": "code",
   "execution_count": 4,
   "metadata": {},
   "outputs": [
    {
     "name": "stdout",
     "output_type": "stream",
     "text": [
      "[  5.37727215  20.17563631   7.43830207   8.17889348   5.12563749\n",
      "   6.09012722]\n"
     ]
    }
   ],
   "source": [
    "P = black_scholes(S, K, T, sigma, r, q, option_type='P')\n",
    "print (P)"
   ]
  },
  {
   "cell_type": "markdown",
   "metadata": {},
   "source": [
    "# Test Implied Volatility Calculation"
   ]
  },
  {
   "cell_type": "code",
   "execution_count": 5,
   "metadata": {},
   "outputs": [
    {
     "name": "stdout",
     "output_type": "stream",
     "text": [
      "(Target, Newton) =  (0.20000000000000001, 0.19999999999999993)\n",
      "(Target, Newton) =  (0.20000000000000001, 0.20000000000000018)\n",
      "(Target, Newton) =  (0.20000000000000001, 0.19999999999999937)\n",
      "(Target, Newton) =  (0.20000000000000001, 0.19999999999999959)\n",
      "(Target, Newton) =  (0.20000000000000001, 0.20000000000000015)\n",
      "(Target, Newton) =  (0.20000000000000001, 0.20000000000000018)\n",
      "(Target, Newton) =  (0.29999999999999999, 0.3000000000000001)\n",
      "(Target, Newton) =  (0.29999999999999999, 0.29999999999999949)\n",
      "(Target, Newton) =  (0.20000000000000001, 0.20000000000000001)\n",
      "(Target, Newton) =  (0.20000000000000001, 0.20000000000000001)\n",
      "(Target, Newton) =  (0.20000000000000001, 0.19999999999999998)\n",
      "(Target, Newton) =  (0.20000000000000001, 0.19999999999999998)\n"
     ]
    }
   ],
   "source": [
    "for i in range(6):\n",
    "    print (\"(Target, Newton) = \", (sigma[i], imp_vol(C[i], S, K[i], T[i], r[i], q[i], option_type='C')))\n",
    "    print (\"(Target, Newton) = \", (sigma[i], imp_vol(P[i], S, K[i], T[i], r[i], q[i], option_type='P')))"
   ]
  }
 ],
 "metadata": {
  "kernelspec": {
   "display_name": "Python 3",
   "language": "python",
   "name": "python3"
  },
  "language_info": {
   "codemirror_mode": {
    "name": "ipython",
    "version": 3
   },
   "file_extension": ".py",
   "mimetype": "text/x-python",
   "name": "python",
   "nbconvert_exporter": "python",
   "pygments_lexer": "ipython3",
   "version": "3.6.1"
  }
 },
 "nbformat": 4,
 "nbformat_minor": 2
}
