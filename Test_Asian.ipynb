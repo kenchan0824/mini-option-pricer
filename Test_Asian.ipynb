{
 "cells": [
  {
   "cell_type": "code",
   "execution_count": 1,
   "metadata": {
    "collapsed": true
   },
   "outputs": [],
   "source": [
    "from comp7405.basic import *\n",
    "from comp7405.asian import *\n",
    "\n",
    "np.random.seed(7405)"
   ]
  },
  {
   "cell_type": "markdown",
   "metadata": {},
   "source": [
    "# Test Cases"
   ]
  },
  {
   "cell_type": "code",
   "execution_count": 2,
   "metadata": {
    "collapsed": true
   },
   "outputs": [],
   "source": [
    "S0 = 100\n",
    "K = 100\n",
    "T = 3\n",
    "sigma = np.array([0.3, 0.3, 0.3, 0.4])\n",
    "r = 0.05\n",
    "n = np.array([1, 50, 100, 50])"
   ]
  },
  {
   "cell_type": "markdown",
   "metadata": {},
   "source": [
    "# Test Closed Form Geometic Asian Option Formula\n"
   ]
  },
  {
   "cell_type": "code",
   "execution_count": 3,
   "metadata": {},
   "outputs": [
    {
     "name": "stdout",
     "output_type": "stream",
     "text": [
      "[ 26.8054836   26.8054836   26.8054836   32.73804437]\n",
      "[ 12.87628124  12.87628124  12.87628124  18.80884201]\n",
      "[ 26.8054836   13.25912613  13.13877911  15.75981978]\n",
      "[ 12.87628124   8.48270454   8.43108016  12.55876944]\n"
     ]
    }
   ],
   "source": [
    "print(black_scholes(S0, K, T, sigma, r, q=0.0, option_type='C'))\n",
    "print(black_scholes(S0, K, T, sigma, r, q=0.0, option_type='P'))\n",
    "print(geom_asian_exact(S0, K, T, sigma, r, n, option_type='C'))\n",
    "print(geom_asian_exact(S0, K, T, sigma, r, n, option_type='P'))"
   ]
  },
  {
   "cell_type": "markdown",
   "metadata": {},
   "source": [
    "1. For `n` = 1, Geometric Asian option price should be the same as European.\n",
    "2. The larger the `n`, the lsser the effective time to maturity, so the option prices should be smaller.\n",
    "3. For a higher `sigma`, the price should be higher."
   ]
  },
  {
   "cell_type": "markdown",
   "metadata": {},
   "source": [
    "# Test Monte Carlo Simulation (Geometric Asian)\n",
    "\n",
    "First, see if we can achieve the closed form geometric asian option formula result."
   ]
  },
  {
   "cell_type": "code",
   "execution_count": 4,
   "metadata": {},
   "outputs": [
    {
     "name": "stdout",
     "output_type": "stream",
     "text": [
      "26.8054835966\n",
      "(26.487580517221865, 26.204238512949207, 26.770922521494523)\n",
      "12.8762812391\n",
      "(12.904372027301477, 12.796802382205973, 13.011941672396981)\n",
      "13.2591261305\n",
      "(13.27925150978839, 13.1495997117577, 13.408903307819079)\n",
      "8.48270454488\n",
      "(8.4665366142023029, 8.3932197626002232, 8.5398534658043825)\n",
      "13.1387791144\n",
      "(13.138100502012703, 13.010010646311979, 13.266190357713427)\n",
      "8.43108015568\n",
      "(8.4241066124805499, 8.3512424026715486, 8.4969708222895513)\n",
      "15.7598197764\n",
      "(15.650745117142787, 15.477674448799355, 15.823815785486218)\n",
      "12.5587694397\n",
      "(12.58939761028283, 12.492886389519574, 12.685908831046087)\n"
     ]
    }
   ],
   "source": [
    "for i in range(4):\n",
    "    print(geom_asian_exact(S0, K, T, sigma[i], r, n[i], option_type='C'))\n",
    "    print(monte_carlo_asian(S0, K, T, sigma[i], r, n[i], option_type='C', sim_type='G'))\n",
    "    print(geom_asian_exact(S0, K, T, sigma[i], r, n[i], option_type='P'))\n",
    "    print(monte_carlo_asian(S0, K, T, sigma[i], r, n[i], option_type='P', sim_type='G'))\n"
   ]
  },
  {
   "cell_type": "markdown",
   "metadata": {},
   "source": [
    "The more the no. of simulation, the closer to the theoratical values, and the samller the confidence interval."
   ]
  },
  {
   "cell_type": "code",
   "execution_count": 5,
   "metadata": {},
   "outputs": [
    {
     "name": "stdout",
     "output_type": "stream",
     "text": [
      "26.8054835966\n",
      "24.5606373693 16.1953007934\n",
      "27.4692582956 5.60105966554\n",
      "27.1044132758 1.83322343418\n",
      "26.7060467888 0.568178522199\n"
     ]
    }
   ],
   "source": [
    "print(geom_asian_exact(S0, K, T, sigma[0], r, n[0], option_type='C'))\n",
    "V, l, u = monte_carlo_asian(S0, K, T, sigma[0], r, n[0], option_type='C', sim_type='G', m=100)\n",
    "print (V, u-l)\n",
    "V, l, u = monte_carlo_asian(S0, K, T, sigma[0], r, n[0], option_type='C', sim_type='G', m=1000)\n",
    "print (V, u-l)\n",
    "V, l, u = monte_carlo_asian(S0, K, T, sigma[0], r, n[0], option_type='C', sim_type='G', m=10000)\n",
    "print (V, u-l)\n",
    "V, l, u = monte_carlo_asian(S0, K, T, sigma[0], r, n[0], option_type='C', sim_type='G', m=100000)\n",
    "print (V, u-l)"
   ]
  },
  {
   "cell_type": "markdown",
   "metadata": {},
   "source": [
    "# Test Monte Carlo Simulation (Arithmetric Asian)\n",
    "\n",
    "For `n` = 1, Arithmetic Asian option should be simular to Black-Sholes formula result."
   ]
  },
  {
   "cell_type": "code",
   "execution_count": 6,
   "metadata": {},
   "outputs": [
    {
     "name": "stdout",
     "output_type": "stream",
     "text": [
      "26.8054835966\n",
      "12.8762812391\n",
      "(26.572284137766491, 26.291956386506783, 26.8526118890262)\n",
      "(12.819488951358512, 12.712164185190238, 12.926813717526786)\n"
     ]
    }
   ],
   "source": [
    "print(black_scholes(S0, K, T, sigma[0], r, q=0.0, option_type='C'))\n",
    "print(black_scholes(S0, K, T, sigma[0], r, q=0.0, option_type='P'))\n",
    "print(monte_carlo_asian(S0, K, T, sigma[0], r, n=1, option_type='C', sim_type='A'))\n",
    "print(monte_carlo_asian(S0, K, T, sigma[0], r, n=1, option_type='P', sim_type='A'))"
   ]
  },
  {
   "cell_type": "markdown",
   "metadata": {},
   "source": [
    "Generally, \n",
    "- Arithmetic asian call price should be higher than Geometric asian call price.\n",
    "- Arithmetic asian put price should be higher than Geometric asian put price."
   ]
  },
  {
   "cell_type": "code",
   "execution_count": 7,
   "metadata": {},
   "outputs": [
    {
     "name": "stdout",
     "output_type": "stream",
     "text": [
      "13.2591261305\n",
      "(13.201846276112155, 13.072963618298729, 13.330728933925581)\n",
      "(14.721755656579468, 14.578053962642217, 14.865457350516719)\n",
      "8.48270454488\n",
      "(8.4375780506803597, 8.364509153420121, 8.5106469479405984)\n",
      "(7.7947397804814678, 7.7256705442062747, 7.8638090167566608)\n",
      "\n",
      "13.1387791144\n",
      "(13.105659137311298, 12.978388311693896, 13.232929962928699)\n",
      "(14.643722160590588, 14.500493360639716, 14.786950960541461)\n",
      "8.43108015568\n",
      "(8.4112060444418315, 8.3383058739610885, 8.4841062149225746)\n",
      "(7.7871138860059048, 7.7183894934601627, 7.855838278551647)\n",
      "\n",
      "15.7598197764\n",
      "(15.969595779733407, 15.793284721908119, 16.145906837558694)\n",
      "(18.20621808659682, 18.005472323306943, 18.406963849886697)\n",
      "12.5587694397\n",
      "(12.527037011335358, 12.430480382525598, 12.623593640145117)\n",
      "(11.292142142878966, 11.20225705017638, 11.382027235581551)\n",
      "\n"
     ]
    }
   ],
   "source": [
    "for i in range(1,4):\n",
    "    print(geom_asian_exact(S0, K, T, sigma[i], r, n[i], option_type='C'))\n",
    "    print(monte_carlo_asian(S0, K, T, sigma[i], r, n[i], option_type='C', sim_type='G'))\n",
    "    print(monte_carlo_asian(S0, K, T, sigma[i], r, n[i], option_type='C', sim_type='A'))\n",
    "    print(geom_asian_exact(S0, K, T, sigma[i], r, n[i], option_type='P'))\n",
    "    print(monte_carlo_asian(S0, K, T, sigma[i], r, n[i], option_type='P', sim_type='G'))\n",
    "    print(monte_carlo_asian(S0, K, T, sigma[i], r, n[i], option_type='P', sim_type='A'))\n",
    "    print()\n"
   ]
  },
  {
   "cell_type": "markdown",
   "metadata": {},
   "source": [
    "# Test Monte Carlo Simulation (Arithmetric Asian with Control Variate)\n",
    "\n",
    "The mean should be simular to the version without control variate, but the confidence interval be much smaller"
   ]
  },
  {
   "cell_type": "code",
   "execution_count": 8,
   "metadata": {},
   "outputs": [
    {
     "name": "stdout",
     "output_type": "stream",
     "text": [
      "26.6553723747 0.566761526997\n",
      "26.8054835966 0.0\n",
      "12.8453875536 0.215299197453\n",
      "12.8762812391 0.0\n",
      "\n",
      "14.7404767466 0.28801234199\n",
      "14.7366790366 0.0217409761883\n",
      "7.76434506764 0.137858145693\n",
      "7.80157383722 0.0088792510111\n",
      "\n",
      "14.7415283113 0.286443578593\n",
      "14.6119124691 0.0214225907671\n",
      "7.77041711082 0.137455846281\n",
      "7.74682832146 0.00884481198009\n",
      "\n",
      "18.1118396308 0.403131177596\n",
      "18.2151904296 0.0400871531328\n",
      "11.3429711021 0.18001608421\n",
      "11.283105215 0.0155585354059\n",
      "\n"
     ]
    }
   ],
   "source": [
    "for i in range(4):\n",
    "    mu, low, up = monte_carlo_asian(S0, K, T, sigma[i], r, n[i], option_type='C', sim_type='A')\n",
    "    print(mu, up - low)\n",
    "    mu, low, up = monte_carlo_asian(S0, K, T, sigma[i], r, n[i], option_type='C', sim_type='C')\n",
    "    print(mu, up - low)\n",
    "    mu, low, up = monte_carlo_asian(S0, K, T, sigma[i], r, n[i], option_type='P', sim_type='A')\n",
    "    print(mu, up - low)\n",
    "    mu, low, up = monte_carlo_asian(S0, K, T, sigma[i], r, n[i], option_type='P', sim_type='C')\n",
    "    print(mu, up - low)\n",
    "    print()"
   ]
  }
 ],
 "metadata": {
  "kernelspec": {
   "display_name": "Python 3",
   "language": "python",
   "name": "python3"
  },
  "language_info": {
   "codemirror_mode": {
    "name": "ipython",
    "version": 3
   },
   "file_extension": ".py",
   "mimetype": "text/x-python",
   "name": "python",
   "nbconvert_exporter": "python",
   "pygments_lexer": "ipython3",
   "version": "3.6.1"
  }
 },
 "nbformat": 4,
 "nbformat_minor": 2
}
