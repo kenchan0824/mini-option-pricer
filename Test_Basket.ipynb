{
 "cells": [
  {
   "cell_type": "code",
   "execution_count": 1,
   "metadata": {
    "collapsed": true
   },
   "outputs": [],
   "source": [
    "from comp7405.basic import *\n",
    "from comp7405.basket import *\n",
    "\n",
    "np.random.seed(7405)"
   ]
  },
  {
   "cell_type": "markdown",
   "metadata": {},
   "source": [
    "# Test Cases"
   ]
  },
  {
   "cell_type": "code",
   "execution_count": 2,
   "metadata": {
    "collapsed": true
   },
   "outputs": [],
   "source": [
    "S1_0 = 100\n",
    "S2_0 = 100\n",
    "K = np.array([100, 100, 100, 100, 80, 120, 100])\n",
    "T = 3\n",
    "sigma1 = np.array([0.3, 0.3, 0.3, 0.1, 0.3, 0.3, 0.5])\n",
    "sigma2 = np.array([0.3, 0.3, 0.3, 0.3, 0.3, 0.3, 0.5])\n",
    "r = 0.05\n",
    "rho = np.array([1.0, 0.5, 0.9, 0.5, 0.5, 0.5, 0.5])"
   ]
  },
  {
   "cell_type": "markdown",
   "metadata": {},
   "source": [
    "# Test Closed Form Geometic Basket Option Formula\n"
   ]
  },
  {
   "cell_type": "code",
   "execution_count": 3,
   "metadata": {},
   "outputs": [
    {
     "name": "stdout",
     "output_type": "stream",
     "text": [
      "[ 26.8054836   26.8054836   26.8054836   15.64211441  37.00361476\n",
      "  19.23238481  38.56782682]\n",
      "[ 26.8054836   22.1020928   25.87882553  17.92473661  32.53625629\n",
      "  14.68546576  28.44938652]\n",
      "[ 12.87628124  12.87628124  12.87628124   1.71291205   5.86025288\n",
      "  22.51734198  24.63862446]\n",
      "[ 12.87628124  11.49157267  12.62235016   6.58638062   4.71157663\n",
      "  21.28910516  23.46914802]\n"
     ]
    }
   ],
   "source": [
    "print(black_scholes(S1_0, K, T, sigma1, r, q=0.0, option_type='C'))\n",
    "print(geom_basket_exact(S1_0, S2_0, K, T, sigma1, sigma2, r, rho, option_type='C'))\n",
    "print(black_scholes(S1_0, K, T, sigma1, r, q=0.0, option_type='P'))\n",
    "print(geom_basket_exact(S1_0, S2_0, K, T, sigma1, sigma2, r, rho, option_type='P'))"
   ]
  },
  {
   "cell_type": "markdown",
   "metadata": {},
   "source": [
    "1. For `rho` = 1 and both stocks initial price `S0` and `sigma` are equal, Geometric basket option price should essentailly be the same as European.\n",
    "2. The smaller the `rho`, the smaller the option price.\n",
    "3. If either one `sigma` get lower, the option price is lower.\n",
    "4. If strike price `K` is lower, call price is higer, put price is lower.\n",
    "3. For both `sigma` are higher, the option price is higher."
   ]
  },
  {
   "cell_type": "markdown",
   "metadata": {},
   "source": [
    "# Test Monte Carlo Simulation (Geometric Basket)\n",
    "\n",
    "First, see if we can achieve the closed form geometric basket option formula result."
   ]
  },
  {
   "cell_type": "code",
   "execution_count": 4,
   "metadata": {},
   "outputs": [
    {
     "name": "stdout",
     "output_type": "stream",
     "text": [
      "26.8054835966\n",
      "26.7303820184\n",
      "12.8762812391\n",
      "12.8183818117\n",
      "\n",
      "22.1020927976\n",
      "22.3085332182\n",
      "11.491572668\n",
      "11.5595018851\n",
      "\n",
      "25.8788255264\n",
      "25.8922817169\n",
      "12.6223501611\n",
      "12.6382140254\n",
      "\n",
      "17.9247366058\n",
      "17.9140980382\n",
      "6.58638062012\n",
      "6.52096085678\n",
      "\n",
      "32.5362562867\n",
      "32.5882843622\n",
      "4.71157662855\n",
      "4.71612237974\n",
      "\n",
      "14.6854657609\n",
      "14.549964181\n",
      "21.2891051598\n",
      "21.3014337397\n",
      "\n",
      "28.4493865195\n",
      "28.143033097\n",
      "23.469148024\n",
      "23.4484521071\n",
      "\n"
     ]
    }
   ],
   "source": [
    "for i in range(7):\n",
    "    print(geom_basket_exact(S1_0, S2_0, K[i], T, sigma1[i], sigma2[i], r, rho[i], option_type='C'))\n",
    "    sim_call, _, _ = monte_carlo_basket(S1_0, S2_0, K[i], T, sigma1[i], sigma2[i], r, rho[i], option_type='C', sim_type='G')\n",
    "    print(sim_call)\n",
    "    print(geom_basket_exact(S1_0, S2_0, K[i], T, sigma1[i], sigma2[i], r, rho[i], option_type='P'))\n",
    "    sim_put, _, _ = monte_carlo_basket(S1_0, S2_0, K[i], T, sigma1[i], sigma2[i], r, rho[i], option_type='P', sim_type='G')\n",
    "    print(sim_put)\n",
    "    print()\n"
   ]
  },
  {
   "cell_type": "markdown",
   "metadata": {},
   "source": [
    "The more the no. of simulation, the closer to the theoratical values, and the samller the confidence interval."
   ]
  },
  {
   "cell_type": "code",
   "execution_count": 5,
   "metadata": {},
   "outputs": [
    {
     "name": "stdout",
     "output_type": "stream",
     "text": [
      "11.491572668\n",
      "9.29025136952 5.70293832327\n",
      "11.4132603994 1.95991682163\n",
      "11.395340384 0.607673081965\n",
      "11.5281572381 0.195144701404\n",
      "11.4949921523 0.0616344536846\n"
     ]
    }
   ],
   "source": [
    "print(geom_basket_exact(S1_0, S2_0, K[1], T, sigma1[1], sigma2[1], r, rho[1], option_type='P'))\n",
    "sim_call, l, u = monte_carlo_basket(S1_0, S2_0, K[1], T, sigma1[1], sigma2[1], r, rho[1], option_type='P', sim_type='G', m=100)\n",
    "print(sim_call, u-l)\n",
    "sim_call, l, u  = monte_carlo_basket(S1_0, S2_0, K[1], T, sigma1[1], sigma2[1], r, rho[1], option_type='P', sim_type='G', m=1000)\n",
    "print(sim_call, u-l)\n",
    "sim_call, l, u  = monte_carlo_basket(S1_0, S2_0, K[1], T, sigma1[1], sigma2[1], r, rho[1], option_type='P', sim_type='G', m=10000)\n",
    "print(sim_call, u-l)\n",
    "sim_call, l, u = monte_carlo_basket(S1_0, S2_0, K[1], T, sigma1[1], sigma2[1], r, rho[1], option_type='P', sim_type='G', m=100000)\n",
    "print(sim_call, u-l)\n",
    "sim_call, l, u = monte_carlo_basket(S1_0, S2_0, K[1], T, sigma1[1], sigma2[1], r, rho[1], option_type='P', sim_type='G', m=1000000)\n",
    "print(sim_call, u-l)"
   ]
  },
  {
   "cell_type": "markdown",
   "metadata": {},
   "source": [
    "# Test Monte Carlo Simulation (Arithmetric Asian)\n",
    "\n",
    "For `rho` = 1 and both stocks initial price `S0` and `sigma` are equal, Arithmetic basket option price should be simular to Black-Sholes formula result."
   ]
  },
  {
   "cell_type": "code",
   "execution_count": 6,
   "metadata": {},
   "outputs": [
    {
     "name": "stdout",
     "output_type": "stream",
     "text": [
      "26.8054835966\n",
      "(26.950665334804576, 26.66449023218825, 27.236840437420902)\n",
      "12.8762812391\n",
      "(12.780408713180563, 12.67335465130278, 12.887462775058346)\n"
     ]
    }
   ],
   "source": [
    "print(black_scholes(S1_0, K[0], T, sigma1[0], r, q=0.0, option_type='C'))\n",
    "print(monte_carlo_basket(S1_0, S2_0, K[0], T, sigma1[0], sigma2[0], r, rho=1, option_type='C', sim_type='A'))\n",
    "print(black_scholes(S1_0, K[0], T, sigma1[0], r, q=0.0, option_type='P'))\n",
    "print(monte_carlo_basket(S1_0, S2_0, K[0], T, sigma1[0], sigma2[0], r, rho=1, option_type='P', sim_type='A'))"
   ]
  },
  {
   "cell_type": "markdown",
   "metadata": {},
   "source": [
    "Generally, \n",
    "- Arithmetic basket call price should be higher than Geometric basket call price.\n",
    "- Arithmetic basket put price should be higher than Geometric basket put price."
   ]
  },
  {
   "cell_type": "code",
   "execution_count": 7,
   "metadata": {},
   "outputs": [
    {
     "name": "stdout",
     "output_type": "stream",
     "text": [
      "22.1020927976\n",
      "(21.987353819712038, 21.760179841495336, 22.214527797928739)\n",
      "(24.539942424603918, 24.297888157703181, 24.781996691504656)\n",
      "11.491572668\n",
      "(11.604690078826623, 11.506605638600121, 11.702774519053126)\n",
      "(10.570217245297385, 10.475990799294285, 10.664443691300486)\n",
      "\n",
      "25.8788255264\n",
      "(26.069685978306463, 25.795461357949726, 26.3439105986632)\n",
      "(26.333251844772686, 26.056837535994788, 26.609666153550585)\n",
      "12.6223501611\n",
      "(12.704932780868809, 12.598510576955995, 12.811354984781623)\n",
      "(12.266657311269523, 12.162017078592173, 12.371297543946872)\n",
      "\n",
      "17.9247366058\n",
      "(17.908058966436432, 17.754284285747023, 18.061833647125841)\n",
      "(19.504444226931668, 19.330557775945419, 19.678330677917916)\n",
      "6.58638062012\n",
      "(6.5462444810441198, 6.4802203133850087, 6.6122686487032309)\n",
      "(5.5808694598412281, 5.5232650843036728, 5.6384738353787833)\n",
      "\n",
      "32.5362562867\n",
      "(32.563177245644354, 32.3085787176392, 32.817775773649508)\n",
      "(35.542761008216829, 35.272128228891468, 35.813393787542189)\n",
      "4.71157662855\n",
      "(4.7102337539055616, 4.6523489251173125, 4.7681185826938108)\n",
      "(4.2833605769939931, 4.2279425178688461, 4.3387786361191401)\n",
      "\n",
      "14.6854657609\n",
      "(14.733532712974032, 14.536843516241262, 14.930221909706802)\n",
      "(16.487755393867065, 16.27864354505266, 16.696867242681471)\n",
      "21.2891051598\n",
      "(21.328533377074763, 21.19244984530366, 21.464616908845866)\n",
      "(19.898742964886747, 19.765085393379863, 20.032400536393631)\n",
      "\n",
      "28.4493865195\n",
      "(28.362239984657609, 27.955355121445489, 28.76912484786973)\n",
      "(35.207677442986096, 34.732789060541123, 35.68256582543107)\n",
      "23.469148024\n",
      "(23.527504193287193, 23.377353947661192, 23.677654438913194)\n",
      "(21.142510334915613, 20.996308475788258, 21.288712194042969)\n",
      "\n"
     ]
    }
   ],
   "source": [
    "for i in range(1,7):\n",
    "    print(geom_basket_exact(S1_0, S2_0, K[i], T, sigma1[i], sigma2[i], r, rho[i], option_type='C'))\n",
    "    print(monte_carlo_basket(S1_0, S2_0, K[i], T, sigma1[i], sigma2[i], r, rho[i], option_type='C', sim_type='G'))\n",
    "    print(monte_carlo_basket(S1_0, S2_0, K[i], T, sigma1[i], sigma2[i], r, rho[i], option_type='C', sim_type='A'))\n",
    "    print(geom_basket_exact(S1_0, S2_0, K[i], T, sigma1[i], sigma2[i], r, rho[i], option_type='P'))\n",
    "    print(monte_carlo_basket(S1_0, S2_0, K[i], T, sigma1[i], sigma2[i], r, rho[i], option_type='P', sim_type='G'))\n",
    "    print(monte_carlo_basket(S1_0, S2_0, K[i], T, sigma1[i], sigma2[i], r, rho[i], option_type='P', sim_type='A'))\n",
    "    print()"
   ]
  },
  {
   "cell_type": "markdown",
   "metadata": {},
   "source": [
    "# Test Monte Carlo Simulation (Arithmetric Asian with Control Variate)\n",
    "\n",
    "The mean should be simular to the version without control variate, but the confidence interval be much smaller"
   ]
  },
  {
   "cell_type": "code",
   "execution_count": 8,
   "metadata": {},
   "outputs": [
    {
     "name": "stdout",
     "output_type": "stream",
     "text": [
      "26.6721694191 0.570660005165\n",
      "26.8054835966 0.0\n",
      "12.8133752284 0.215577056876\n",
      "12.8762812391 0.0\n",
      "\n",
      "24.4272483539 0.487033287306\n",
      "24.4967430213 0.0620255914815\n",
      "10.5690836193 0.188572135357\n",
      "10.565797418 0.0244747105475\n",
      "\n",
      "26.3938822278 0.549330326877\n",
      "26.355791901 0.0127442879578\n",
      "12.3384991041 0.209371765332\n",
      "12.4271709961 0.00553882249287\n",
      "\n",
      "19.3828771595 0.345739338849\n",
      "19.4545121633 0.0388633117966\n",
      "5.56590480672 0.11470026007\n",
      "5.51360420115 0.0171555094625\n",
      "\n",
      "35.1837855068 0.535826726003\n",
      "35.4286084029 0.0647971520021\n",
      "4.27665121113 0.110681885044\n",
      "4.25136011189 0.0154313852455\n",
      "\n",
      "16.5791120148 0.418902751005\n",
      "16.604345077 0.0599472583583\n",
      "19.933824627 0.267880734619\n",
      "19.8831916663 0.0325481977913\n",
      "\n",
      "34.9081012007 0.944699673572\n",
      "34.9557651716 0.212100256543\n",
      "21.0462166298 0.291856582802\n",
      "21.1024295803 0.0554856567945\n",
      "\n"
     ]
    }
   ],
   "source": [
    "for i in range(7):\n",
    "    mu, low, up = monte_carlo_basket(S1_0, S2_0, K[i], T, sigma1[i], sigma2[i], r, rho[i], option_type='C', sim_type='A') \n",
    "    print(mu, up - low)\n",
    "    mu, low, up = monte_carlo_basket(S1_0, S2_0, K[i], T, sigma1[i], sigma2[i], r, rho[i], option_type='C', sim_type='C')\n",
    "    print(mu, up - low)\n",
    "    mu, low, up = monte_carlo_basket(S1_0, S2_0, K[i], T, sigma1[i], sigma2[i], r, rho[i], option_type='P', sim_type='A')\n",
    "    print(mu, up - low)\n",
    "    mu, low, up =monte_carlo_basket(S1_0, S2_0, K[i], T, sigma1[i], sigma2[i], r, rho[i], option_type='P', sim_type='C')\n",
    "    print(mu, up - low)\n",
    "    print()"
   ]
  }
 ],
 "metadata": {
  "kernelspec": {
   "display_name": "Python 3",
   "language": "python",
   "name": "python3"
  },
  "language_info": {
   "codemirror_mode": {
    "name": "ipython",
    "version": 3
   },
   "file_extension": ".py",
   "mimetype": "text/x-python",
   "name": "python",
   "nbconvert_exporter": "python",
   "pygments_lexer": "ipython3",
   "version": "3.6.1"
  }
 },
 "nbformat": 4,
 "nbformat_minor": 2
}
